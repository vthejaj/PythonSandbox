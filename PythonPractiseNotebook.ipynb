{
 "cells": [
  {
   "cell_type": "code",
   "execution_count": null,
   "metadata": {},
   "outputs": [],
   "source": [
    "# Declation of Lists\n",
    "\n",
    "my_list = []\n",
    "my_list1 = list()\n",
    "\n",
    "print(my_list)\n",
    "print(id(my_list))\n",
    "print(type(my_list))\n",
    "\n",
    "print(my_list1)\n",
    "print(id(my_list1))\n",
    "print(type(my_list1))"
   ]
  },
  {
   "cell_type": "code",
   "execution_count": null,
   "metadata": {},
   "outputs": [],
   "source": [
    "dir([])\n",
    "dir(list)\n",
    "# both result the same output i.e., it lists all the methods of object"
   ]
  },
  {
   "cell_type": "code",
   "execution_count": null,
   "metadata": {},
   "outputs": [],
   "source": [
    "class MyClass:\n",
    "    def method1(self): pass\n",
    "    def method2(self): pass\n",
    "    def method3(self): pass\n",
    "\n",
    "methods_list = [method for method in dir(MyClass) if callable(getattr(MyClass, method)) and not method.startswith(\"__\")]\n",
    "print(\"Methods using dir():\", methods_list)\n"
   ]
  },
  {
   "cell_type": "code",
   "execution_count": null,
   "metadata": {},
   "outputs": [],
   "source": [
    "import inspect\n",
    "\n",
    "methods_list = [method[0] for method in inspect.getmembers(MyClass, predicate=inspect.ismethod)]\n",
    "print(\"Methods using inspect module:\", methods_list)\n"
   ]
  },
  {
   "cell_type": "code",
   "execution_count": null,
   "metadata": {},
   "outputs": [],
   "source": [
    "dir(MyClass)"
   ]
  },
  {
   "cell_type": "code",
   "execution_count": null,
   "metadata": {},
   "outputs": [],
   "source": [
    "methods_list = [method for method in vars(MyClass) if callable(getattr(MyClass, method)) and not method.startswith(\"__\")]\n",
    "print(\"Methods using vars():\", methods_list)\n"
   ]
  },
  {
   "cell_type": "code",
   "execution_count": null,
   "metadata": {},
   "outputs": [],
   "source": [
    "methods_list = [method for method in MyClass.__dict__ if callable(getattr(MyClass, method)) and not method.startswith(\"__\")]\n",
    "print(\"Methods using __dict__ attribute:\", methods_list)\n"
   ]
  }
 ],
 "metadata": {
  "kernelspec": {
   "display_name": "py312",
   "language": "python",
   "name": "python3"
  },
  "language_info": {
   "codemirror_mode": {
    "name": "ipython",
    "version": 3
   },
   "file_extension": ".py",
   "mimetype": "text/x-python",
   "name": "python",
   "nbconvert_exporter": "python",
   "pygments_lexer": "ipython3",
   "version": "3.12.4"
  }
 },
 "nbformat": 4,
 "nbformat_minor": 2
}
